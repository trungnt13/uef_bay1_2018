{
  "nbformat": 4,
  "nbformat_minor": 0,
  "metadata": {
    "colab": {
      "name": "tut2_apple_orange.ipynb",
      "version": "0.3.2",
      "provenance": [],
      "collapsed_sections": [],
      "include_colab_link": true
    },
    "kernelspec": {
      "name": "python3",
      "display_name": "Python 3"
    }
  },
  "cells": [
    {
      "cell_type": "markdown",
      "metadata": {
        "id": "view-in-github",
        "colab_type": "text"
      },
      "source": [
        "<a href=\"https://colab.research.google.com/github/trungnt13/uef_bay1_2018/blob/master/ex0_intro_bayes/tut2_apple_orange.ipynb\" target=\"_parent\"><img src=\"https://colab.research.google.com/assets/colab-badge.svg\" alt=\"Open In Colab\"/></a>"
      ]
    },
    {
      "metadata": {
        "id": "_QzkfWcqdl61",
        "colab_type": "code",
        "colab": {
          "base_uri": "https://localhost:8080/",
          "height": 391
        },
        "outputId": "b6e64748-32b8-4981-b41d-99606d022a00"
      },
      "cell_type": "code",
      "source": [
        "!pip install tf-nightly tfp-nightly seaborn"
      ],
      "execution_count": 11,
      "outputs": [
        {
          "output_type": "stream",
          "text": [
            "Requirement already satisfied: tf-nightly in /usr/local/lib/python3.6/dist-packages (1.13.0.dev20181107)\n",
            "Requirement already satisfied: tfp-nightly in /usr/local/lib/python3.6/dist-packages (0.6.0.dev20181107)\n",
            "Requirement already satisfied: seaborn in /usr/local/lib/python3.6/dist-packages (0.7.1)\n",
            "Requirement already satisfied: numpy>=1.13.3 in /usr/local/lib/python3.6/dist-packages (from tf-nightly) (1.14.6)\n",
            "Requirement already satisfied: six>=1.10.0 in /usr/local/lib/python3.6/dist-packages (from tf-nightly) (1.11.0)\n",
            "Requirement already satisfied: grpcio>=1.8.6 in /usr/local/lib/python3.6/dist-packages (from tf-nightly) (1.15.0)\n",
            "Requirement already satisfied: keras-preprocessing>=1.0.5 in /usr/local/lib/python3.6/dist-packages (from tf-nightly) (1.0.5)\n",
            "Requirement already satisfied: tb-nightly<1.14.0a0,>=1.13.0a0 in /usr/local/lib/python3.6/dist-packages (from tf-nightly) (1.13.0a20181107)\n",
            "Requirement already satisfied: keras-applications>=1.0.6 in /usr/local/lib/python3.6/dist-packages (from tf-nightly) (1.0.6)\n",
            "Requirement already satisfied: gast>=0.2.0 in /usr/local/lib/python3.6/dist-packages (from tf-nightly) (0.2.0)\n",
            "Requirement already satisfied: astor>=0.6.0 in /usr/local/lib/python3.6/dist-packages (from tf-nightly) (0.7.1)\n",
            "Requirement already satisfied: protobuf>=3.6.1 in /usr/local/lib/python3.6/dist-packages (from tf-nightly) (3.6.1)\n",
            "Requirement already satisfied: termcolor>=1.1.0 in /usr/local/lib/python3.6/dist-packages (from tf-nightly) (1.1.0)\n",
            "Requirement already satisfied: tensorflow-estimator>=1.10.0 in /usr/local/lib/python3.6/dist-packages (from tf-nightly) (1.10.12)\n",
            "Requirement already satisfied: absl-py>=0.1.6 in /usr/local/lib/python3.6/dist-packages (from tf-nightly) (0.6.1)\n",
            "Requirement already satisfied: wheel>=0.26 in /usr/local/lib/python3.6/dist-packages (from tf-nightly) (0.32.2)\n",
            "Requirement already satisfied: werkzeug>=0.11.10 in /usr/local/lib/python3.6/dist-packages (from tb-nightly<1.14.0a0,>=1.13.0a0->tf-nightly) (0.14.1)\n",
            "Requirement already satisfied: markdown>=2.6.8 in /usr/local/lib/python3.6/dist-packages (from tb-nightly<1.14.0a0,>=1.13.0a0->tf-nightly) (3.0.1)\n",
            "Requirement already satisfied: h5py in /usr/local/lib/python3.6/dist-packages (from keras-applications>=1.0.6->tf-nightly) (2.8.0)\n",
            "Requirement already satisfied: setuptools in /usr/local/lib/python3.6/dist-packages (from protobuf>=3.6.1->tf-nightly) (40.5.0)\n",
            "Requirement already satisfied: mock>=2.0.0 in /usr/local/lib/python3.6/dist-packages (from tensorflow-estimator>=1.10.0->tf-nightly) (2.0.0)\n",
            "Requirement already satisfied: pbr>=0.11 in /usr/local/lib/python3.6/dist-packages (from mock>=2.0.0->tensorflow-estimator>=1.10.0->tf-nightly) (5.1.1)\n"
          ],
          "name": "stdout"
        }
      ]
    },
    {
      "metadata": {
        "id": "GLy7Fu87ek5E",
        "colab_type": "text"
      },
      "cell_type": "markdown",
      "source": [
        "# Simulated the coloured boxes experiment\n",
        "\n",
        "Suppose that we have three coloured boxes r (red), b (blue), and g (green). \n",
        "\n",
        "Box **r** contains 3 apples, 4 oranges, and 3 limes, \n",
        "\n",
        "box **b** contains 1 apple, 1 orange, and 0 limes, and \n",
        "\n",
        "box **g** contains 3 apples, 3 oranges, and 4 limes. \n",
        "\n",
        "If a box is chosen at random with probabilities $p(r) = 0.2$,  $p(b) = 0.2$, $p(g) = 0.6$, \n",
        "\n",
        "and a piece of fruit is removed from the box (with equal probability of selecting any of the items in the box)."
      ]
    },
    {
      "metadata": {
        "id": "ehFG4Gude7np",
        "colab_type": "code",
        "colab": {}
      },
      "cell_type": "code",
      "source": [
        "import matplotlib\n",
        "from matplotlib import pyplot as plt\n",
        "\n",
        "import seaborn\n",
        "\n",
        "import numpy as np\n",
        "from scipy.stats import itemfreq\n",
        "\n",
        "import tensorflow as tf\n",
        "import tensorflow_probability as tfp\n",
        "tfd = tfp.distributions\n",
        "tf.enable_eager_execution()"
      ],
      "execution_count": 0,
      "outputs": []
    },
    {
      "metadata": {
        "id": "Y7Cb0x8Ie96Q",
        "colab_type": "text"
      },
      "cell_type": "markdown",
      "source": [
        "## Define the model\n",
        "\n",
        "We need to translate the process of data generation. \n",
        "\n",
        "To get a fruit, we have to follow these steps:\n",
        "\n",
        "1. We draw a sample from _boxes_ distribution\n",
        "2. We got the box, one of red, blue, green\n",
        "3. We open the box and pick one fruit equal randomly\n",
        "\n",
        "The _boxes_ should come from **Categorical** distribution, since you only pick one box at a time, hence, if we pick red, then the box could not be blue or green\n",
        "\n",
        "The fruit in each box is also a **Categorical** distribution, since we only pick one fruit from given box at a time."
      ]
    },
    {
      "metadata": {
        "id": "flXQzYYhf2kz",
        "colab_type": "code",
        "colab": {
          "base_uri": "https://localhost:8080/",
          "height": 51
        },
        "outputId": "293fba61-50d2-4159-c0de-e07f87256bbd"
      },
      "cell_type": "code",
      "source": [
        "boxes = tfd.Categorical(probs=[0.2, # p(r)\n",
        "                               0.2, # p(b)\n",
        "                               0.6], # p(g)\n",
        "                        name=\"DistributionOfBoxes\")\n",
        "fruits = tfd.Mixture(\n",
        "    cat=boxes,\n",
        "    components=[\n",
        "        # in order, the probabilities of: apple, orange, lime\n",
        "        tfd.Categorical(probs=[0.3, 0.4, 0.3], name=\"RedBox\"),\n",
        "        tfd.Categorical(probs=[0.5, 0.5, 0.0], name=\"BlueBox\"),\n",
        "        tfd.Categorical(probs=[0.3, 0.3, 0.4], name=\"GreenBox\"),\n",
        "    ],\n",
        "    name=\"DistributionOfFruits\")\n",
        "\n",
        "print(boxes)\n",
        "print(fruits)"
      ],
      "execution_count": 12,
      "outputs": [
        {
          "output_type": "stream",
          "text": [
            "tfp.distributions.Categorical(\"DistributionOfBoxes/\", batch_shape=(), event_shape=(), dtype=int32)\n",
            "tfp.distributions.Mixture(\"DistributionOfFruits/\", batch_shape=(), event_shape=(), dtype=int32)\n"
          ],
          "name": "stdout"
        }
      ]
    },
    {
      "metadata": {
        "id": "u60H_vVEgDZK",
        "colab_type": "text"
      },
      "cell_type": "markdown",
      "source": [
        "## Explaining the model\n",
        "\n",
        "The **Mixture** model replecting our process of sampling the fruits\n",
        "\n",
        "Our model has 3 components representing three boxes\n",
        "\n",
        "and to choose which box will be selected, it will use the **boxes** distribution to draw box sample first,\n",
        "\n",
        "then selecting and appropriate componenent to draw the fruit\n",
        "\n",
        "* 0: for apple\n",
        "* 1: for orange\n",
        "* 2: for lime"
      ]
    },
    {
      "metadata": {
        "id": "R0F1B2pAgnh1",
        "colab_type": "code",
        "colab": {
          "base_uri": "https://localhost:8080/",
          "height": 68
        },
        "outputId": "9445535b-4049-4abd-bdc6-355968eadd94"
      },
      "cell_type": "code",
      "source": [
        "# analytically calculate the probability of each fruit\n",
        "print(\"p(apple)  =\", tf.exp(fruits.log_prob(0))) # answer for question 3a), maybe?\n",
        "print(\"p(orange) =\", tf.exp(fruits.log_prob(1)))\n",
        "print(\"p(lime)   =\", tf.exp(fruits.log_prob(2)))"
      ],
      "execution_count": 13,
      "outputs": [
        {
          "output_type": "stream",
          "text": [
            "p(apple)  = tf.Tensor(0.33999997, shape=(), dtype=float32)\n",
            "p(orange) = tf.Tensor(0.35999998, shape=(), dtype=float32)\n",
            "p(lime)   = tf.Tensor(0.29999998, shape=(), dtype=float32)\n"
          ],
          "name": "stdout"
        }
      ]
    },
    {
      "metadata": {
        "id": "UmO1nOypg1K9",
        "colab_type": "text"
      },
      "cell_type": "markdown",
      "source": [
        "## Drawing the sample from the model\n",
        "\n",
        "NOTE: this sampling process is only true if we return the fruit to the box after we pick it up\n",
        "\n",
        "or we have an **infinitely auto-refilled** boxes"
      ]
    },
    {
      "metadata": {
        "id": "8fdIaFIBg3z3",
        "colab_type": "code",
        "colab": {
          "base_uri": "https://localhost:8080/",
          "height": 364
        },
        "outputId": "7020596e-ca7e-4ecf-9605-02858cce26a9"
      },
      "cell_type": "code",
      "source": [
        "n_samples = 10000\n",
        "samples = fruits.sample(n_samples)\n",
        "distribution = itemfreq(samples)\n",
        "plt.bar(distribution[:, 0], distribution[:, 1])\n",
        "plt.title(\"Distribution of fruits after picking %d times\" % n_samples)\n",
        "_ = plt.xticks(np.arange(0, 3), fontsize=12)"
      ],
      "execution_count": 15,
      "outputs": [
        {
          "output_type": "display_data",
          "data": {
            "image/png": "[encoded data removed]",
            "text/plain": [
              "<matplotlib.figure.Figure at 0x7fe7b9d1d4e0>"
            ]
          },
          "metadata": {
            "tags": []
          }
        }
      ]
    },
    {
      "metadata": {
        "id": "ccP_sU4VhILz",
        "colab_type": "text"
      },
      "cell_type": "markdown",
      "source": [
        "## Calculating the log-probability\n"
      ]
    },
    {
      "metadata": {
        "id": "C3V7UZIuhK0L",
        "colab_type": "code",
        "colab": {
          "base_uri": "https://localhost:8080/",
          "height": 68
        },
        "outputId": "18d3436c-29b2-49a6-c674-dc0013b18c9b"
      },
      "cell_type": "code",
      "source": [
        "samples1 = fruits.sample(10)\n",
        "samples2 = [0, 1, 2, 2, 2, 2, 2, 2, 2, 2]\n",
        "\n",
        "llk1 = tf.reduce_sum(fruits.log_prob(samples1))\n",
        "print(\"log[p(sample1|model)] =\", llk1)\n",
        "\n",
        "llk2 = tf.reduce_sum(fruits.log_prob(samples2))\n",
        "print(\"log[p(sample2|model)] =\", llk2)\n",
        "\n",
        "if llk1 > llk2:\n",
        "  print('Samples-1 are more likely to be generated from our model')\n",
        "elif llk1 == llk2:\n",
        "  print('Both samples are equal likely to be generated from our model')\n",
        "else:\n",
        "  print('Samples-2 are more likely to be generated from our model')"
      ],
      "execution_count": 16,
      "outputs": [
        {
          "output_type": "stream",
          "text": [
            "log[p(sample1|model)] = tf.Tensor(-11.299596, shape=(), dtype=float32)\n",
            "log[p(sample2|model)] = tf.Tensor(-11.732244, shape=(), dtype=float32)\n",
            "Samples-1 are more likely to be generated from our model\n"
          ],
          "name": "stdout"
        }
      ]
    }
  ]
}